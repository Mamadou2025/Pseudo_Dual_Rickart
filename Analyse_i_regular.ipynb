{
  "nbformat": 4,
  "nbformat_minor": 0,
  "metadata": {
    "colab": {
      "provenance": [],
      "authorship_tag": "ABX9TyME9EEWXFYEofjAn6BODQAq",
      "include_colab_link": true
    },
    "kernelspec": {
      "name": "python3",
      "display_name": "Python 3"
    },
    "language_info": {
      "name": "python"
    }
  },
  "cells": [
    {
      "cell_type": "markdown",
      "metadata": {
        "id": "view-in-github",
        "colab_type": "text"
      },
      "source": [
        "<a href=\"https://colab.research.google.com/github/Mamadou2025/Pseudo_Dual_Rickart/blob/main/Analyse_i_regular.ipynb\" target=\"_parent\"><img src=\"https://colab.research.google.com/assets/colab-badge.svg\" alt=\"Open In Colab\"/></a>"
      ]
    },
    {
      "cell_type": "code",
      "execution_count": 1,
      "metadata": {
        "id": "w1ViPJFUW8zV",
        "colab": {
          "base_uri": "https://localhost:8080/"
        },
        "outputId": "e104ee58-0f67-4f53-a6be-07b221de491d"
      },
      "outputs": [
        {
          "output_type": "stream",
          "name": "stdout",
          "text": [
            "\n",
            "Analysis for M = [0, 1, 2] (n = 2)\n",
            "Function        | Image        | Extended Image   | i-regular\n",
            "------------------------------------------------------------\n",
            "(0, 0, 0)       | {0}          | {0}              | Yes\n",
            "(0, 0, 1)       | {0, 1}       | {0, 1}           | Yes\n",
            "(0, 0, 2)       | {0, 2}       | {0, 1, 2}        | No\n",
            "(0, 1, 1)       | {0, 1}       | {0, 1}           | Yes\n",
            "(0, 1, 2)       | {0, 1, 2}    | {0, 1, 2}        | Yes\n",
            "(0, 2, 2)       | {0, 2}       | {0, 1, 2}        | No\n"
          ]
        }
      ],
      "source": [
        "from itertools import product\n",
        "\n",
        "def is_endomorphism(f, M):\n",
        "    \"\"\"Check if f preserves the max operation of the join-semilattice.\"\"\"\n",
        "    return all(f[max(x, y)] == max(f[x], f[y]) for x, y in product(M, repeat=2))\n",
        "\n",
        "def direct_image(f, M):\n",
        "    \"\"\"Compute the direct image of f.\"\"\"\n",
        "    return {f[x] for x in M}\n",
        "\n",
        "def extended_image(f, M):\n",
        "    \"\"\"Compute the extended image via max closure.\"\"\"\n",
        "    im_f = direct_image(f, M)\n",
        "    return {y for y in M if any(max(y, f[x]) in im_f for x in M)}\n",
        "\n",
        "def generate_endomorphisms(n):\n",
        "    \"\"\"Generate all endomorphism functions for M = {0, 1, ..., n}.\"\"\"\n",
        "    M = list(range(n + 1))\n",
        "    results = []\n",
        "\n",
        "    # Generate all possible functions f: M → M\n",
        "    for f_vals in product(M, repeat=len(M)):\n",
        "        f = dict(enumerate(f_vals))\n",
        "\n",
        "        # Filter: f(0) = 0 and check endomorphism\n",
        "        if f[0] == 0 and is_endomorphism(f, M):\n",
        "            im_f = direct_image(f, M)\n",
        "            ext_im = extended_image(f, M)\n",
        "            is_i_regular = (im_f == ext_im)\n",
        "\n",
        "            results.append({\n",
        "                'function': f_vals,\n",
        "                'image': im_f,\n",
        "                'extended_image': ext_im,\n",
        "                'i_regular': is_i_regular  # ✅ mémorisation du statut i-regular\n",
        "            })\n",
        "\n",
        "    return results\n",
        "\n",
        "def display_results(n):\n",
        "    \"\"\"Display formatted analysis results.\"\"\"\n",
        "    results = generate_endomorphisms(n)\n",
        "    M = list(range(n + 1))\n",
        "\n",
        "    print(f\"\\nAnalysis for M = {M} (n = {n})\")\n",
        "    print(\"{:<15} | {:<12} | {:<16} | {}\".format(\n",
        "        \"Function\", \"Image\", \"Extended Image\", \"i-regular\"))\n",
        "    print(\"-\" * 60)\n",
        "\n",
        "    for res in results:\n",
        "        f_str = str(res['function']).ljust(15)\n",
        "        im_str = str(res['image']).ljust(12)\n",
        "        ext_im_str = str(res['extended_image']).ljust(16)\n",
        "        reg_str = \"Yes\" if res['i_regular'] else \"No\"\n",
        "        print(f\"{f_str} | {im_str} | {ext_im_str} | {reg_str}\")\n",
        "\n",
        "# Example usage\n",
        "display_results(2)\n"
      ]
    }
  ]
}