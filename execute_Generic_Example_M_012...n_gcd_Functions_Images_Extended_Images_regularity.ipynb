url = https://raw.githubusercontent.com/Mamadou2025/Pseudo_Dual_Rickart/main/mon_Generic_Example_M_012...n_gcd_Functions_Images_Extended_Images_regularity.py
response = requests.get(url)
exec(response.text)
