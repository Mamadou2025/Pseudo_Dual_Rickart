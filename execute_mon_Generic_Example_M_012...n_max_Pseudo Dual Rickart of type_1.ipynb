url = https://raw.githubusercontent.com/Mamadou2025/Pseudo_Dual_Rickart/main/mon_Generic_Example_M_012...n_max_Pseudo Dual Rickart of type_1.py
response = requests.get(url)
exec(response.text)
